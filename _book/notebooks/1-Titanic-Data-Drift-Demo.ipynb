{
 "cells": [
  {
   "cell_type": "markdown",
   "metadata": {},
   "source": [
    "# Test For `DataDrifChecher`-`pydrift` \n",
    "\n",
    "We're going to test how it works with the famous titanic dataset\n",
    "\n",
    "# Dependencies"
   ]
  },
  {
   "cell_type": "code",
   "execution_count": 1,
   "metadata": {},
   "outputs": [],
   "source": [
    "import pandas as pd\n",
    "\n",
    "from sklearn.model_selection import train_test_split\n",
    "\n",
    "from pydrift import DataDriftChecker\n",
    "from pydrift.constants import PATH_DATA, RANDOM_STATE"
   ]
  },
  {
   "cell_type": "markdown",
   "metadata": {},
   "source": [
    "# Read Data "
   ]
  },
  {
   "cell_type": "code",
   "execution_count": 2,
   "metadata": {},
   "outputs": [],
   "source": [
    "df_titanic = pd.read_csv(PATH_DATA / 'titanic.csv')"
   ]
  },
  {
   "cell_type": "markdown",
   "metadata": {},
   "source": [
    "# Constants "
   ]
  },
  {
   "cell_type": "code",
   "execution_count": 3,
   "metadata": {},
   "outputs": [],
   "source": [
    "DATA_LENGTH = df_titanic.shape[0]\n",
    "TARGET = 'Survived'"
   ]
  },
  {
   "cell_type": "markdown",
   "metadata": {},
   "source": [
    "# Data Split\n",
    "\n",
    "We drop `PassengerId`, `Name`, `Cabin`, `Ticket` because are features with high cardinality (passenger related variables)\n",
    "\n",
    "50% sample will give us a non-drift problem"
   ]
  },
  {
   "cell_type": "code",
   "execution_count": 4,
   "metadata": {},
   "outputs": [],
   "source": [
    "X = df_titanic.drop(columns=['PassengerId', 'Name', 'Cabin', 'Ticket', TARGET])\n",
    "y = df_titanic[TARGET]\n",
    "\n",
    "X_train, X_test, y_train, y_test = train_test_split(\n",
    "    X, y, test_size=.5, random_state=RANDOM_STATE, stratify=y\n",
    ")"
   ]
  },
  {
   "cell_type": "markdown",
   "metadata": {},
   "source": [
    "# Instanciate `pydrift.DataDriftChecker` "
   ]
  },
  {
   "cell_type": "code",
   "execution_count": 5,
   "metadata": {},
   "outputs": [],
   "source": [
    "data_drift_checker_ok = DataDriftChecker(X_train, X_test)"
   ]
  },
  {
   "cell_type": "markdown",
   "metadata": {},
   "source": [
    "# Test  `ml_model_can_discriminate` Feature"
   ]
  },
  {
   "cell_type": "code",
   "execution_count": 6,
   "metadata": {},
   "outputs": [
    {
     "data": {
      "image/png": "[encoded data removed]",
      "text/plain": [
       "<Figure size 576x309.6 with 1 Axes>"
      ]
     },
     "metadata": {
      "needs_background": "light"
     },
     "output_type": "display_data"
    },
    {
     "name": "stdout",
     "output_type": "stream",
     "text": [
      "No drift found in discriminative model step\n",
      "\n",
      "AUC drift check model: 0.50\n",
      "AUC threshold: .5 ± 0.10\n"
     ]
    }
   ],
   "source": [
    "data_drift_checker_ok.ml_model_can_discriminate();"
   ]
  },
  {
   "cell_type": "markdown",
   "metadata": {},
   "source": [
    "# Test Numerical Features "
   ]
  },
  {
   "cell_type": "code",
   "execution_count": 7,
   "metadata": {},
   "outputs": [
    {
     "name": "stdout",
     "output_type": "stream",
     "text": [
      "No drift found in numerical columns check step\n",
      "\n"
     ]
    }
   ],
   "source": [
    "data_drift_checker_ok.check_numerical_columns();"
   ]
  },
  {
   "cell_type": "markdown",
   "metadata": {},
   "source": [
    "# Test Categorical Features "
   ]
  },
  {
   "cell_type": "code",
   "execution_count": 8,
   "metadata": {
    "scrolled": true
   },
   "outputs": [
    {
     "name": "stdout",
     "output_type": "stream",
     "text": [
      "No drift found in categorical columns check step\n",
      "\n"
     ]
    }
   ],
   "source": [
    "data_drift_checker_ok.check_categorical_columns();"
   ]
  },
  {
   "cell_type": "markdown",
   "metadata": {},
   "source": [
    "# Same But  Make It Drift\n",
    "\n",
    "`pydrift` tells you that the problem is in `Sex` feature (as is obviously in this example)"
   ]
  },
  {
   "cell_type": "code",
   "execution_count": 9,
   "metadata": {},
   "outputs": [
    {
     "data": {
      "image/png": "[encoded data removed]",
      "text/plain": [
       "<Figure size 576x309.6 with 1 Axes>"
      ]
     },
     "metadata": {
      "needs_background": "light"
     },
     "output_type": "display_data"
    },
    {
     "name": "stdout",
     "output_type": "stream",
     "text": [
      "Drift found in discriminative model step, take a look on the most discriminative features (plots when minimal is set to False)\n",
      "\n",
      "AUC drift check model: 1.00\n",
      "AUC threshold: .5 ± 0.10\n"
     ]
    }
   ],
   "source": [
    "X_women = X[X['Sex'] == 'female']\n",
    "X_men = X[X['Sex'] == 'male']\n",
    "\n",
    "data_drift_checker_ko = DataDriftChecker(X_women, X_men)\n",
    "data_drift_checker_ko.ml_model_can_discriminate();"
   ]
  },
  {
   "cell_type": "markdown",
   "metadata": {},
   "source": [
    "# Test Numerical Features "
   ]
  },
  {
   "cell_type": "code",
   "execution_count": 10,
   "metadata": {},
   "outputs": [
    {
     "name": "stdout",
     "output_type": "stream",
     "text": [
      "Drift found in numerical columns check step, take a look on the variables that are drifted, if one is not important you could simply delete it, otherwise check the data source\n",
      "\n"
     ]
    },
    {
     "name": "stderr",
     "output_type": "stream",
     "text": [
      "/home/scalderp/PycharmProjects/Data-And-Model-Drift-Checker/pydrift/core/drift_checker.py:362: UserWarning:\n",
      "\n",
      "Features drifted (numerical): Pclass, Age, SibSp, Parch, Fare\n",
      "\n"
     ]
    }
   ],
   "source": [
    "data_drift_checker_ko.check_numerical_columns();"
   ]
  },
  {
   "cell_type": "markdown",
   "metadata": {},
   "source": [
    "# Test Categorical Features "
   ]
  },
  {
   "cell_type": "code",
   "execution_count": 11,
   "metadata": {
    "scrolled": false
   },
   "outputs": [
    {
     "name": "stdout",
     "output_type": "stream",
     "text": [
      "Drift found in categorical columns check step, take a look on the variables that are drifted, if one is not important you could simply delete it, otherwise check the data source\n",
      "\n"
     ]
    },
    {
     "name": "stderr",
     "output_type": "stream",
     "text": [
      "/home/scalderp/PycharmProjects/Data-And-Model-Drift-Checker/pydrift/core/drift_checker.py:452: UserWarning:\n",
      "\n",
      "Features drifted (categorical): Sex, Embarked\n",
      "\n"
     ]
    }
   ],
   "source": [
    "data_drift_checker_ko.check_categorical_columns();"
   ]
  },
  {
   "cell_type": "markdown",
   "metadata": {},
   "source": [
    "# All Drifted Features "
   ]
  },
  {
   "cell_type": "code",
   "execution_count": 12,
   "metadata": {},
   "outputs": [
    {
     "data": {
      "text/plain": [
       "{'Age', 'Embarked', 'Fare', 'Parch', 'Pclass', 'Sex', 'SibSp'}"
      ]
     },
     "execution_count": 12,
     "metadata": {},
     "output_type": "execute_result"
    }
   ],
   "source": [
    "data_drift_checker_ko.drifted_features"
   ]
  },
  {
   "cell_type": "markdown",
   "metadata": {},
   "source": [
    "# Same But  Make It Drift With Various Features\n",
    "\n",
    "`pydrift` detects that the problem is but `Pclass` and `Fare` feature (again obviously because this is an example)"
   ]
  },
  {
   "cell_type": "code",
   "execution_count": 13,
   "metadata": {},
   "outputs": [
    {
     "data": {
      "image/png": "[encoded data removed]",
      "text/plain": [
       "<Figure size 576x309.6 with 1 Axes>"
      ]
     },
     "metadata": {
      "needs_background": "light"
     },
     "output_type": "display_data"
    },
    {
     "name": "stdout",
     "output_type": "stream",
     "text": [
      "Drift found in discriminative model step, take a look on the most discriminative features (plots when minimal is set to False)\n",
      "\n",
      "AUC drift check model: 1.00\n",
      "AUC threshold: .5 ± 0.10\n"
     ]
    }
   ],
   "source": [
    "mask = (X['Pclass'] > 1) & (X['Fare'] > 10)\n",
    "\n",
    "X_mask = X[mask]\n",
    "X_unmask = X[~mask]\n",
    "\n",
    "data_drift_checker_ko_2 = DataDriftChecker(X_mask, X_unmask)\n",
    "data_drift_checker_ko_2.ml_model_can_discriminate();"
   ]
  },
  {
   "cell_type": "markdown",
   "metadata": {},
   "source": [
    "# Test Numerical Features "
   ]
  },
  {
   "cell_type": "code",
   "execution_count": 14,
   "metadata": {},
   "outputs": [
    {
     "name": "stdout",
     "output_type": "stream",
     "text": [
      "Drift found in numerical columns check step, take a look on the variables that are drifted, if one is not important you could simply delete it, otherwise check the data source\n",
      "\n"
     ]
    },
    {
     "name": "stderr",
     "output_type": "stream",
     "text": [
      "/home/scalderp/PycharmProjects/Data-And-Model-Drift-Checker/pydrift/core/drift_checker.py:362: UserWarning:\n",
      "\n",
      "Features drifted (numerical): Pclass, Age, SibSp, Parch, Fare\n",
      "\n"
     ]
    }
   ],
   "source": [
    "data_drift_checker_ko_2.check_numerical_columns();"
   ]
  },
  {
   "cell_type": "markdown",
   "metadata": {},
   "source": [
    "# Test Categorical Features "
   ]
  },
  {
   "cell_type": "code",
   "execution_count": 15,
   "metadata": {
    "scrolled": false
   },
   "outputs": [
    {
     "name": "stdout",
     "output_type": "stream",
     "text": [
      "Drift found in categorical columns check step, take a look on the variables that are drifted, if one is not important you could simply delete it, otherwise check the data source\n",
      "\n"
     ]
    },
    {
     "name": "stderr",
     "output_type": "stream",
     "text": [
      "/home/scalderp/PycharmProjects/Data-And-Model-Drift-Checker/pydrift/core/drift_checker.py:452: UserWarning:\n",
      "\n",
      "Features drifted (categorical): Sex, Embarked\n",
      "\n"
     ]
    }
   ],
   "source": [
    "data_drift_checker_ko_2.check_categorical_columns();"
   ]
  },
  {
   "cell_type": "markdown",
   "metadata": {},
   "source": [
    "# All Drifted Features "
   ]
  },
  {
   "cell_type": "code",
   "execution_count": 16,
   "metadata": {},
   "outputs": [
    {
     "data": {
      "text/plain": [
       "{'Age', 'Embarked', 'Fare', 'Parch', 'Pclass', 'Sex', 'SibSp'}"
      ]
     },
     "execution_count": 16,
     "metadata": {},
     "output_type": "execute_result"
    }
   ],
   "source": [
    "data_drift_checker_ko_2.drifted_features"
   ]
  }
 ],
 "metadata": {
  "kernelspec": {
   "display_name": "Python 3",
   "language": "python",
   "name": "python3"
  },
  "language_info": {
   "codemirror_mode": {
    "name": "ipython",
    "version": 3
   },
   "file_extension": ".py",
   "mimetype": "text/x-python",
   "name": "python",
   "nbconvert_exporter": "python",
   "pygments_lexer": "ipython3",
   "version": "3.6.1"
  }
 },
 "nbformat": 4,
 "nbformat_minor": 4
}
